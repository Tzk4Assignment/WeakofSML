{
 "cells": [
  {
   "cell_type": "code",
   "execution_count": 4,
   "id": "d3ae88af",
   "metadata": {},
   "outputs": [],
   "source": [
    "import pandas as pd\n",
    "import random\n",
    "from sklearn.feature_extraction.text import CountVectorizer\n",
    "from sklearn.tree import DecisionTreeClassifier\n",
    "from sklearn.linear_model import LogisticRegression\n",
    "from sklearn.datasets import load_iris\n",
    "from sklearn.model_selection import train_test_split\n",
    "from sklearn.metrics import accuracy_score\n",
    "import xgboost as xgb\n",
    "from imblearn.over_sampling import SMOTE\n",
    "from sklearn.model_selection import GridSearchCV\n",
    "import numpy as np\n",
    "from sklearn.metrics import classification_report"
   ]
  },
  {
   "cell_type": "code",
   "execution_count": 2,
   "id": "442505a9",
   "metadata": {},
   "outputs": [],
   "source": [
    "humanset1 = pd.read_json(\"set1_human.json\")\n",
    "humanset2 = pd.read_json(\"set2_human.json\")\n",
    "machineset1 = pd.read_json(\"set1_machine.json\")\n",
    "machineset1 = machineset1.drop(\"machine_id\",axis=1)\n",
    "machineset2 = pd.read_json(\"set2_machine.json\")\n",
    "machineset2 = machineset2.drop(\"machine_id\",axis=1)\n",
    "test = pd.read_json(\"test.json\")\n",
    "test[\"txt2\"] = test[\"txt\"].apply(lambda x:[str(each) for each in x])\n",
    "test[\"txt2\"] = test[\"txt2\"].apply(lambda x:\" \".join(x))"
   ]
  },
  {
   "cell_type": "code",
   "execution_count": 3,
   "id": "8229c096",
   "metadata": {},
   "outputs": [],
   "source": [
    "key = [1]*humanset1.shape[0]\n",
    "humanset1[\"key\"] = key\n",
    "key = [1]*humanset2.shape[0]\n",
    "humanset2[\"key\"] = key\n",
    "key = [0]*machineset1.shape[0]\n",
    "machineset1[\"key\"] = key\n",
    "key = [0]*machineset2.shape[0]\n",
    "machineset2[\"key\"] = key\n",
    "humanset = pd.concat([humanset1,humanset2], axis = 0)\n",
    "machineset = pd.concat([machineset1,machineset2], axis = 0)\n",
    "data = pd.concat([humanset, machineset], axis = 0)\n",
    "data[\"txt2\"] = data[\"txt\"].apply(lambda x:[str(each) for each in x])\n",
    "data[\"txt2\"] = data[\"txt2\"].apply(lambda x:\" \".join(x))\n",
    "data['length'] = data['txt'].apply(lambda x: str(len(x)))"
   ]
  },
  {
   "cell_type": "code",
   "execution_count": 4,
   "id": "a72ece82",
   "metadata": {},
   "outputs": [],
   "source": [
    "response = pd.concat([data[\"txt2\"], data[\"length\"]], axis=1)\n",
    "pred = y = data[\"key\"]"
   ]
  },
  {
   "cell_type": "code",
   "execution_count": 5,
   "id": "56de4725",
   "metadata": {},
   "outputs": [],
   "source": [
    "X_train, X_test, y_train, y_test = train_test_split(data['txt2'], data['key'], train_size=0.8, random_state=5)\n",
    "vectorizer = CountVectorizer()\n",
    "vectorizer.fit(X_train)\n",
    "\n",
    "X = vectorizer.transform(X_train)\n",
    "X = X.toarray()\n",
    "Xt = vectorizer.transform(X_test)\n",
    "Xt = Xt.toarray()"
   ]
  },
  {
   "cell_type": "code",
   "execution_count": 6,
   "id": "f5846ce6",
   "metadata": {},
   "outputs": [],
   "source": [
    "k = 5\n",
    "smote = SMOTE(sampling_strategy='auto', k_neighbors=k, random_state=42)\n",
    "X_resampled, y_resampled = smote.fit_resample(X, y_train)"
   ]
  },
  {
   "cell_type": "code",
   "execution_count": 30,
   "id": "b81541be",
   "metadata": {},
   "outputs": [],
   "source": [
    "xgb_model = xgb.XGBClassifier(max_depth=20, n_estimators=600, learning_rate=0.1, random_state=42)\n",
    "xgb_model.fit(X_resampled, y_resampled)\n",
    "pred = xgb_model.predict(Xt)"
   ]
  },
  {
   "cell_type": "code",
   "execution_count": 31,
   "id": "39404b2b",
   "metadata": {},
   "outputs": [
    {
     "name": "stdout",
     "output_type": "stream",
     "text": [
      "              precision    recall  f1-score   support\n",
      "\n",
      "           0  0.8475609756 0.5574866310 0.6725806452       748\n",
      "           1  0.9866666667 0.9969473727 0.9917803782     24569\n",
      "\n",
      "    accuracy                      0.9839633448     25317\n",
      "   macro avg  0.9171138211 0.7772170019 0.8321805117     25317\n",
      "weighted avg  0.9825567383 0.9839633448 0.9823495056     25317\n",
      "\n"
     ]
    }
   ],
   "source": [
    "from sklearn.metrics import classification_report\n",
    "print(classification_report(y_true=y_test, y_pred=pred, digits=10))"
   ]
  },
  {
   "cell_type": "markdown",
   "id": "2e09242a",
   "metadata": {},
   "source": [
    "RF"
   ]
  },
  {
   "cell_type": "code",
   "execution_count": 7,
   "id": "99b6719a",
   "metadata": {},
   "outputs": [
    {
     "name": "stdout",
     "output_type": "stream",
     "text": [
      "              precision    recall  f1-score   support\n",
      "\n",
      "           0  0.7582205029 0.5240641711 0.6197628458       748\n",
      "           1  0.9856451613 0.9949122878 0.9902570439     24569\n",
      "\n",
      "    accuracy                      0.9810009085     25317\n",
      "   macro avg  0.8719328321 0.7594882295 0.8050099449     25317\n",
      "weighted avg  0.9789258168 0.9810009085 0.9793106577     25317\n",
      "\n"
     ]
    }
   ],
   "source": [
    "model =  LogisticRegression(C=0.004832930238571752, solver='liblinear') \n",
    "model.fit(X_resampled, y_resampled)\n",
    "pred = model.predict(Xt)\n",
    "from sklearn.metrics import classification_report\n",
    "print(classification_report(y_true=y_test, y_pred=pred, digits=10))"
   ]
  },
  {
   "cell_type": "code",
   "execution_count": 8,
   "id": "69f375a4",
   "metadata": {},
   "outputs": [],
   "source": [
    "test = pd.read_json(\"test.json\")\n",
    "test[\"txt2\"] = test[\"txt\"].apply(lambda x:[str(each) for each in x])\n",
    "test[\"txt2\"] = test[\"txt2\"].apply(lambda x:\" \".join(x))\n",
    "X_test = vectorizer.transform(test['txt2'])\n",
    "X_test = X_test.toarray()\n",
    "result = model.predict(X_test)\n",
    "a = list(range(1000))\n",
    "result_df = pd.DataFrame({\n",
    "    'id' : a,\n",
    "    'Predicted' : result,\n",
    "})\n",
    "result_df.to_csv('result3.csv', index=False)"
   ]
  },
  {
   "cell_type": "code",
   "execution_count": 33,
   "id": "2308db1d",
   "metadata": {},
   "outputs": [
    {
     "data": {
      "text/plain": [
       "478"
      ]
     },
     "execution_count": 33,
     "metadata": {},
     "output_type": "execute_result"
    }
   ],
   "source": [
    "c=0\n",
    "for i in result:\n",
    "    c=c+i\n",
    "c"
   ]
  },
  {
   "cell_type": "code",
   "execution_count": 44,
   "id": "7e0acbda",
   "metadata": {},
   "outputs": [
    {
     "data": {
      "text/html": [
       "<div>\n",
       "<style scoped>\n",
       "    .dataframe tbody tr th:only-of-type {\n",
       "        vertical-align: middle;\n",
       "    }\n",
       "\n",
       "    .dataframe tbody tr th {\n",
       "        vertical-align: top;\n",
       "    }\n",
       "\n",
       "    .dataframe thead th {\n",
       "        text-align: right;\n",
       "    }\n",
       "</style>\n",
       "<table border=\"1\" class=\"dataframe\">\n",
       "  <thead>\n",
       "    <tr style=\"text-align: right;\">\n",
       "      <th></th>\n",
       "      <th>Predicted_left</th>\n",
       "      <th>Predicted_right</th>\n",
       "    </tr>\n",
       "    <tr>\n",
       "      <th>id</th>\n",
       "      <th></th>\n",
       "      <th></th>\n",
       "    </tr>\n",
       "  </thead>\n",
       "  <tbody>\n",
       "    <tr>\n",
       "      <th>1</th>\n",
       "      <td>0</td>\n",
       "      <td>1</td>\n",
       "    </tr>\n",
       "    <tr>\n",
       "      <th>2</th>\n",
       "      <td>0</td>\n",
       "      <td>1</td>\n",
       "    </tr>\n",
       "    <tr>\n",
       "      <th>3</th>\n",
       "      <td>0</td>\n",
       "      <td>1</td>\n",
       "    </tr>\n",
       "    <tr>\n",
       "      <th>4</th>\n",
       "      <td>0</td>\n",
       "      <td>1</td>\n",
       "    </tr>\n",
       "    <tr>\n",
       "      <th>7</th>\n",
       "      <td>0</td>\n",
       "      <td>1</td>\n",
       "    </tr>\n",
       "    <tr>\n",
       "      <th>...</th>\n",
       "      <td>...</td>\n",
       "      <td>...</td>\n",
       "    </tr>\n",
       "    <tr>\n",
       "      <th>959</th>\n",
       "      <td>0</td>\n",
       "      <td>1</td>\n",
       "    </tr>\n",
       "    <tr>\n",
       "      <th>965</th>\n",
       "      <td>1</td>\n",
       "      <td>0</td>\n",
       "    </tr>\n",
       "    <tr>\n",
       "      <th>972</th>\n",
       "      <td>0</td>\n",
       "      <td>1</td>\n",
       "    </tr>\n",
       "    <tr>\n",
       "      <th>973</th>\n",
       "      <td>1</td>\n",
       "      <td>0</td>\n",
       "    </tr>\n",
       "    <tr>\n",
       "      <th>975</th>\n",
       "      <td>1</td>\n",
       "      <td>0</td>\n",
       "    </tr>\n",
       "  </tbody>\n",
       "</table>\n",
       "<p>279 rows × 2 columns</p>\n",
       "</div>"
      ],
      "text/plain": [
       "     Predicted_left  Predicted_right\n",
       "id                                  \n",
       "1                 0                1\n",
       "2                 0                1\n",
       "3                 0                1\n",
       "4                 0                1\n",
       "7                 0                1\n",
       "..              ...              ...\n",
       "959               0                1\n",
       "965               1                0\n",
       "972               0                1\n",
       "973               1                0\n",
       "975               1                0\n",
       "\n",
       "[279 rows x 2 columns]"
      ]
     },
     "execution_count": 44,
     "metadata": {},
     "output_type": "execute_result"
    }
   ],
   "source": [
    "df1 = pd.read_csv('result1.csv', index_col='id')\n",
    "df2 = pd.read_csv('result2.csv', index_col='id')\n",
    "merged = pd.merge(df1, df2, on='id', suffixes=('_left', '_right'))\n",
    "diffs = merged.query('Predicted_left != Predicted_right')\n",
    "diffs"
   ]
  },
  {
   "cell_type": "code",
   "execution_count": null,
   "id": "506e81d4",
   "metadata": {},
   "outputs": [
    {
     "name": "stdout",
     "output_type": "stream",
     "text": [
      "Fitting 5 folds for each of 40 candidates, totalling 200 fits\n"
     ]
    }
   ],
   "source": [
    "#Hyperparamter\n",
    "hyperpara = {\n",
    "    'penalty':['l1','l2'],\n",
    "    'C':np.logspace(-4,4,20),\n",
    "    'solver':['liblinear']\n",
    "}\n",
    "model = LogisticRegression()\n",
    "\n",
    "grid_search = GridSearchCV(\n",
    "    estimator=model,\n",
    "    param_grid=hyperpara,\n",
    "    scoring='f1_macro',\n",
    "    n_jobs = 2,\n",
    "    cv=5,\n",
    "    verbose=True\n",
    ")\n",
    "\n",
    "grid_result = grid_search.fit(X_resampled, y_resampled)\n",
    "grid_search.best_params\n",
    "pred = grid_search.predict(Xt)\n",
    "best = grid_search.best_estimator\n",
    "print(best)"
   ]
  }
 ],
 "metadata": {
  "kernelspec": {
   "display_name": "Python 3 (ipykernel)",
   "language": "python",
   "name": "python3"
  },
  "language_info": {
   "codemirror_mode": {
    "name": "ipython",
    "version": 3
   },
   "file_extension": ".py",
   "mimetype": "text/x-python",
   "name": "python",
   "nbconvert_exporter": "python",
   "pygments_lexer": "ipython3",
   "version": "3.10.9"
  }
 },
 "nbformat": 4,
 "nbformat_minor": 5
}
