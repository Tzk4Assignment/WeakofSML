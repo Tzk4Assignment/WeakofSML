{
 "cells": [
  {
   "cell_type": "code",
   "execution_count": 14,
   "id": "f4feed49",
   "metadata": {},
   "outputs": [],
   "source": [
    "import pandas as pd\n",
    "import random\n",
    "from sklearn.feature_extraction.text import CountVectorizer\n",
    "from sklearn.tree import DecisionTreeClassifier\n",
    "from sklearn.linear_model import LogisticRegression\n",
    "from sklearn.datasets import load_iris\n",
    "from sklearn.model_selection import train_test_split\n",
    "from sklearn.metrics import accuracy_score\n",
    "import xgboost as xgb\n",
    "from imblearn.over_sampling import SMOTE\n",
    "from sklearn.model_selection import GridSearchCV\n",
    "import numpy as np\n",
    "from sklearn.metrics import classification_report\n",
    "from imblearn.under_sampling import RandomUnderSampler\n",
    "from scipy.spatial.distance import cosine"
   ]
  },
  {
   "cell_type": "code",
   "execution_count": 15,
   "id": "b6a7e63b",
   "metadata": {},
   "outputs": [],
   "source": [
    "humanset1 = pd.read_json(\"set1_human.json\")\n",
    "humanset2 = pd.read_json(\"set2_human.json\")\n",
    "machineset1 = pd.read_json(\"set1_machine.json\")\n",
    "machineset1 = machineset1.drop(\"machine_id\",axis=1)\n",
    "machineset2 = pd.read_json(\"set2_machine.json\")\n",
    "machineset2 = machineset2.drop(\"machine_id\",axis=1)\n",
    "test = pd.read_json(\"test.json\")\n",
    "test[\"txt2\"] = test[\"txt\"].apply(lambda x:[str(each) for each in x])\n",
    "test[\"txt2\"] = test[\"txt2\"].apply(lambda x:\" \".join(x))\n",
    "test[\"prompt2\"] = test[\"prompt\"].apply(lambda x:[str(each) for each in x])\n",
    "test[\"prompt2\"] = test[\"prompt2\"].apply(lambda x:\" \".join(x))\n",
    "test['merge'] = test[\"txt2\"]"
   ]
  },
  {
   "cell_type": "code",
   "execution_count": 16,
   "id": "8f810b03",
   "metadata": {},
   "outputs": [],
   "source": [
    "key = [1]*humanset1.shape[0]\n",
    "humanset1[\"key\"] = key\n",
    "key = [1]*humanset2.shape[0]\n",
    "humanset2[\"key\"] = key\n",
    "key = [0]*machineset1.shape[0]\n",
    "machineset1[\"key\"] = key\n",
    "key = [0]*machineset2.shape[0]\n",
    "machineset2[\"key\"] = key\n",
    "humanset = pd.concat([humanset1,humanset2], axis = 0)\n",
    "machineset = pd.concat([machineset1,machineset2], axis = 0)\n",
    "data = pd.concat([humanset, machineset], axis = 0)\n",
    "data[\"txt2\"] = data[\"txt\"].apply(lambda x:[str(each) for each in x])\n",
    "data[\"txt2\"] = data[\"txt2\"].apply(lambda x:\" \".join(x))\n",
    "data[\"prompt2\"] = data[\"prompt\"].apply(lambda x:[str(each) for each in x])\n",
    "data[\"prompt2\"] = data[\"prompt2\"].apply(lambda x:\" \".join(x))\n",
    "#data['cosine_similarity'] = data.apply(cosine_similarity, axis=1)\n",
    "data['merge'] = data[\"txt2\"]"
   ]
  },
  {
   "cell_type": "code",
   "execution_count": 17,
   "id": "22ac3a61",
   "metadata": {},
   "outputs": [
    {
     "name": "stdout",
     "output_type": "stream",
     "text": [
      "0\n"
     ]
    },
    {
     "name": "stderr",
     "output_type": "stream",
     "text": [
      "D:\\Anaconda\\lib\\site-packages\\sklearn\\linear_model\\_logistic.py:458: ConvergenceWarning: lbfgs failed to converge (status=1):\n",
      "STOP: TOTAL NO. of ITERATIONS REACHED LIMIT.\n",
      "\n",
      "Increase the number of iterations (max_iter) or scale the data as shown in:\n",
      "    https://scikit-learn.org/stable/modules/preprocessing.html\n",
      "Please also refer to the documentation for alternative solver options:\n",
      "    https://scikit-learn.org/stable/modules/linear_model.html#logistic-regression\n",
      "  n_iter_i = _check_optimize_result(\n"
     ]
    },
    {
     "name": "stdout",
     "output_type": "stream",
     "text": [
      "1\n"
     ]
    },
    {
     "name": "stderr",
     "output_type": "stream",
     "text": [
      "D:\\Anaconda\\lib\\site-packages\\sklearn\\linear_model\\_logistic.py:458: ConvergenceWarning: lbfgs failed to converge (status=1):\n",
      "STOP: TOTAL NO. of ITERATIONS REACHED LIMIT.\n",
      "\n",
      "Increase the number of iterations (max_iter) or scale the data as shown in:\n",
      "    https://scikit-learn.org/stable/modules/preprocessing.html\n",
      "Please also refer to the documentation for alternative solver options:\n",
      "    https://scikit-learn.org/stable/modules/linear_model.html#logistic-regression\n",
      "  n_iter_i = _check_optimize_result(\n"
     ]
    },
    {
     "name": "stdout",
     "output_type": "stream",
     "text": [
      "2\n"
     ]
    },
    {
     "name": "stderr",
     "output_type": "stream",
     "text": [
      "D:\\Anaconda\\lib\\site-packages\\sklearn\\linear_model\\_logistic.py:458: ConvergenceWarning: lbfgs failed to converge (status=1):\n",
      "STOP: TOTAL NO. of ITERATIONS REACHED LIMIT.\n",
      "\n",
      "Increase the number of iterations (max_iter) or scale the data as shown in:\n",
      "    https://scikit-learn.org/stable/modules/preprocessing.html\n",
      "Please also refer to the documentation for alternative solver options:\n",
      "    https://scikit-learn.org/stable/modules/linear_model.html#logistic-regression\n",
      "  n_iter_i = _check_optimize_result(\n"
     ]
    },
    {
     "name": "stdout",
     "output_type": "stream",
     "text": [
      "3\n"
     ]
    },
    {
     "name": "stderr",
     "output_type": "stream",
     "text": [
      "D:\\Anaconda\\lib\\site-packages\\sklearn\\linear_model\\_logistic.py:458: ConvergenceWarning: lbfgs failed to converge (status=1):\n",
      "STOP: TOTAL NO. of ITERATIONS REACHED LIMIT.\n",
      "\n",
      "Increase the number of iterations (max_iter) or scale the data as shown in:\n",
      "    https://scikit-learn.org/stable/modules/preprocessing.html\n",
      "Please also refer to the documentation for alternative solver options:\n",
      "    https://scikit-learn.org/stable/modules/linear_model.html#logistic-regression\n",
      "  n_iter_i = _check_optimize_result(\n"
     ]
    },
    {
     "name": "stdout",
     "output_type": "stream",
     "text": [
      "4\n"
     ]
    },
    {
     "name": "stderr",
     "output_type": "stream",
     "text": [
      "D:\\Anaconda\\lib\\site-packages\\sklearn\\linear_model\\_logistic.py:458: ConvergenceWarning: lbfgs failed to converge (status=1):\n",
      "STOP: TOTAL NO. of ITERATIONS REACHED LIMIT.\n",
      "\n",
      "Increase the number of iterations (max_iter) or scale the data as shown in:\n",
      "    https://scikit-learn.org/stable/modules/preprocessing.html\n",
      "Please also refer to the documentation for alternative solver options:\n",
      "    https://scikit-learn.org/stable/modules/linear_model.html#logistic-regression\n",
      "  n_iter_i = _check_optimize_result(\n"
     ]
    },
    {
     "name": "stdout",
     "output_type": "stream",
     "text": [
      "5\n"
     ]
    },
    {
     "name": "stderr",
     "output_type": "stream",
     "text": [
      "D:\\Anaconda\\lib\\site-packages\\sklearn\\linear_model\\_logistic.py:458: ConvergenceWarning: lbfgs failed to converge (status=1):\n",
      "STOP: TOTAL NO. of ITERATIONS REACHED LIMIT.\n",
      "\n",
      "Increase the number of iterations (max_iter) or scale the data as shown in:\n",
      "    https://scikit-learn.org/stable/modules/preprocessing.html\n",
      "Please also refer to the documentation for alternative solver options:\n",
      "    https://scikit-learn.org/stable/modules/linear_model.html#logistic-regression\n",
      "  n_iter_i = _check_optimize_result(\n"
     ]
    },
    {
     "name": "stdout",
     "output_type": "stream",
     "text": [
      "6\n"
     ]
    },
    {
     "name": "stderr",
     "output_type": "stream",
     "text": [
      "D:\\Anaconda\\lib\\site-packages\\sklearn\\linear_model\\_logistic.py:458: ConvergenceWarning: lbfgs failed to converge (status=1):\n",
      "STOP: TOTAL NO. of ITERATIONS REACHED LIMIT.\n",
      "\n",
      "Increase the number of iterations (max_iter) or scale the data as shown in:\n",
      "    https://scikit-learn.org/stable/modules/preprocessing.html\n",
      "Please also refer to the documentation for alternative solver options:\n",
      "    https://scikit-learn.org/stable/modules/linear_model.html#logistic-regression\n",
      "  n_iter_i = _check_optimize_result(\n"
     ]
    },
    {
     "name": "stdout",
     "output_type": "stream",
     "text": [
      "7\n"
     ]
    },
    {
     "name": "stderr",
     "output_type": "stream",
     "text": [
      "D:\\Anaconda\\lib\\site-packages\\sklearn\\linear_model\\_logistic.py:458: ConvergenceWarning: lbfgs failed to converge (status=1):\n",
      "STOP: TOTAL NO. of ITERATIONS REACHED LIMIT.\n",
      "\n",
      "Increase the number of iterations (max_iter) or scale the data as shown in:\n",
      "    https://scikit-learn.org/stable/modules/preprocessing.html\n",
      "Please also refer to the documentation for alternative solver options:\n",
      "    https://scikit-learn.org/stable/modules/linear_model.html#logistic-regression\n",
      "  n_iter_i = _check_optimize_result(\n"
     ]
    },
    {
     "name": "stdout",
     "output_type": "stream",
     "text": [
      "8\n"
     ]
    },
    {
     "name": "stderr",
     "output_type": "stream",
     "text": [
      "D:\\Anaconda\\lib\\site-packages\\sklearn\\linear_model\\_logistic.py:458: ConvergenceWarning: lbfgs failed to converge (status=1):\n",
      "STOP: TOTAL NO. of ITERATIONS REACHED LIMIT.\n",
      "\n",
      "Increase the number of iterations (max_iter) or scale the data as shown in:\n",
      "    https://scikit-learn.org/stable/modules/preprocessing.html\n",
      "Please also refer to the documentation for alternative solver options:\n",
      "    https://scikit-learn.org/stable/modules/linear_model.html#logistic-regression\n",
      "  n_iter_i = _check_optimize_result(\n"
     ]
    },
    {
     "name": "stdout",
     "output_type": "stream",
     "text": [
      "9\n"
     ]
    },
    {
     "name": "stderr",
     "output_type": "stream",
     "text": [
      "D:\\Anaconda\\lib\\site-packages\\sklearn\\linear_model\\_logistic.py:458: ConvergenceWarning: lbfgs failed to converge (status=1):\n",
      "STOP: TOTAL NO. of ITERATIONS REACHED LIMIT.\n",
      "\n",
      "Increase the number of iterations (max_iter) or scale the data as shown in:\n",
      "    https://scikit-learn.org/stable/modules/preprocessing.html\n",
      "Please also refer to the documentation for alternative solver options:\n",
      "    https://scikit-learn.org/stable/modules/linear_model.html#logistic-regression\n",
      "  n_iter_i = _check_optimize_result(\n"
     ]
    },
    {
     "name": "stdout",
     "output_type": "stream",
     "text": [
      "10\n"
     ]
    },
    {
     "name": "stderr",
     "output_type": "stream",
     "text": [
      "D:\\Anaconda\\lib\\site-packages\\sklearn\\linear_model\\_logistic.py:458: ConvergenceWarning: lbfgs failed to converge (status=1):\n",
      "STOP: TOTAL NO. of ITERATIONS REACHED LIMIT.\n",
      "\n",
      "Increase the number of iterations (max_iter) or scale the data as shown in:\n",
      "    https://scikit-learn.org/stable/modules/preprocessing.html\n",
      "Please also refer to the documentation for alternative solver options:\n",
      "    https://scikit-learn.org/stable/modules/linear_model.html#logistic-regression\n",
      "  n_iter_i = _check_optimize_result(\n"
     ]
    },
    {
     "name": "stdout",
     "output_type": "stream",
     "text": [
      "11\n"
     ]
    },
    {
     "name": "stderr",
     "output_type": "stream",
     "text": [
      "D:\\Anaconda\\lib\\site-packages\\sklearn\\linear_model\\_logistic.py:458: ConvergenceWarning: lbfgs failed to converge (status=1):\n",
      "STOP: TOTAL NO. of ITERATIONS REACHED LIMIT.\n",
      "\n",
      "Increase the number of iterations (max_iter) or scale the data as shown in:\n",
      "    https://scikit-learn.org/stable/modules/preprocessing.html\n",
      "Please also refer to the documentation for alternative solver options:\n",
      "    https://scikit-learn.org/stable/modules/linear_model.html#logistic-regression\n",
      "  n_iter_i = _check_optimize_result(\n"
     ]
    },
    {
     "name": "stdout",
     "output_type": "stream",
     "text": [
      "12\n"
     ]
    },
    {
     "name": "stderr",
     "output_type": "stream",
     "text": [
      "D:\\Anaconda\\lib\\site-packages\\sklearn\\linear_model\\_logistic.py:458: ConvergenceWarning: lbfgs failed to converge (status=1):\n",
      "STOP: TOTAL NO. of ITERATIONS REACHED LIMIT.\n",
      "\n",
      "Increase the number of iterations (max_iter) or scale the data as shown in:\n",
      "    https://scikit-learn.org/stable/modules/preprocessing.html\n",
      "Please also refer to the documentation for alternative solver options:\n",
      "    https://scikit-learn.org/stable/modules/linear_model.html#logistic-regression\n",
      "  n_iter_i = _check_optimize_result(\n"
     ]
    },
    {
     "name": "stdout",
     "output_type": "stream",
     "text": [
      "13\n"
     ]
    },
    {
     "name": "stderr",
     "output_type": "stream",
     "text": [
      "D:\\Anaconda\\lib\\site-packages\\sklearn\\linear_model\\_logistic.py:458: ConvergenceWarning: lbfgs failed to converge (status=1):\n",
      "STOP: TOTAL NO. of ITERATIONS REACHED LIMIT.\n",
      "\n",
      "Increase the number of iterations (max_iter) or scale the data as shown in:\n",
      "    https://scikit-learn.org/stable/modules/preprocessing.html\n",
      "Please also refer to the documentation for alternative solver options:\n",
      "    https://scikit-learn.org/stable/modules/linear_model.html#logistic-regression\n",
      "  n_iter_i = _check_optimize_result(\n"
     ]
    },
    {
     "name": "stdout",
     "output_type": "stream",
     "text": [
      "14\n"
     ]
    },
    {
     "name": "stderr",
     "output_type": "stream",
     "text": [
      "D:\\Anaconda\\lib\\site-packages\\sklearn\\linear_model\\_logistic.py:458: ConvergenceWarning: lbfgs failed to converge (status=1):\n",
      "STOP: TOTAL NO. of ITERATIONS REACHED LIMIT.\n",
      "\n",
      "Increase the number of iterations (max_iter) or scale the data as shown in:\n",
      "    https://scikit-learn.org/stable/modules/preprocessing.html\n",
      "Please also refer to the documentation for alternative solver options:\n",
      "    https://scikit-learn.org/stable/modules/linear_model.html#logistic-regression\n",
      "  n_iter_i = _check_optimize_result(\n"
     ]
    }
   ],
   "source": [
    "pred = []\n",
    "for i in range(15):\n",
    "    print(i)\n",
    "    smote = SMOTE(sampling_strategy = 0.5, k_neighbors = 5, random_state = 5+i*4)\n",
    "    vectorizer = CountVectorizer(min_df = 3, ngram_range=(1,1))\n",
    "    undersampler = RandomUnderSampler(sampling_strategy = 'majority')\n",
    "    X_train, X_test, y_train, y_test = train_test_split(data['merge'], data['key'], train_size=0.6, random_state=3*i+i**2)\n",
    "\n",
    "    bow_x_train = vectorizer.fit_transform(X_train)\n",
    "    bow_x_train = bow_x_train.toarray()\n",
    "\n",
    "    bow_x_test = vectorizer.transform(X_test)\n",
    "    bow_x_test = bow_x_test.toarray()\n",
    "    smote_x_train, smote_y_train = smote.fit_resample(bow_x_train, y_train)\n",
    "\n",
    "    # Apply RandomUnderSampler to your dataset\n",
    "    X_under, y_under = undersampler.fit_resample(smote_x_train, smote_y_train)\n",
    "    logistic = LogisticRegression(penalty='l2', C = 0.05, class_weight = 'balanced') \n",
    "    logistic.fit(X_under, y_under)\n",
    "    X_pred = vectorizer.transform(test['merge'])\n",
    "    X_pred = X_pred.toarray()\n",
    "    pred.append (logistic.predict(X_pred))"
   ]
  },
  {
   "cell_type": "code",
   "execution_count": 27,
   "id": "9996ba89",
   "metadata": {},
   "outputs": [
    {
     "name": "stdout",
     "output_type": "stream",
     "text": [
      "              precision    recall  f1-score   support\n",
      "\n",
      "           0   0.720446  0.745385  0.732703      3900\n",
      "           1   0.991897  0.990806  0.991351    122684\n",
      "\n",
      "    accuracy                       0.983244    126584\n",
      "   macro avg   0.856172  0.868095  0.862027    126584\n",
      "weighted avg   0.983534  0.983244  0.983382    126584\n",
      "\n"
     ]
    }
   ],
   "source": [
    "predictions = pd.DataFrame(columns=[0, 1, 2, 3, 4, 5])\n",
    "predictions[0]=pred0\n",
    "predictions[1]=pred1\n",
    "predictions[2]=pred2\n",
    "predictions[3]=pred3\n",
    "predictions[4]=pred4\n",
    "predictions[5]=pred5\n",
    "result = []\n",
    "for i in range(len(predictions)):\n",
    "    row = predictions.iloc[i].tolist()\n",
    "    arr = np.array(row)\n",
    "    counts = np.bincount(arr)\n",
    "    most_common_num = np.argmax(counts)\n",
    "    result.append(most_common_num)\n",
    "\n",
    "print(classification_report(y_true=data['key'], y_pred=result, digits=6))"
   ]
  },
  {
   "cell_type": "code",
   "execution_count": 35,
   "id": "52a9b3e4",
   "metadata": {},
   "outputs": [],
   "source": [
    "test = pd.read_json(\"test.json\")\n",
    "test[\"txt2\"] = test[\"txt\"].apply(lambda x:[str(each) for each in x])\n",
    "test[\"txt2\"] = test[\"txt2\"].apply(lambda x:\" \".join(x))\n",
    "predictions = pd.DataFrame(columns=[0, 1, 2, 3, 4, 5])\n",
    "predictions[0]=pred0\n",
    "predictions[1]=pred1\n",
    "predictions[2]=pred2\n",
    "predictions[3]=pred3\n",
    "predictions[4]=pred4\n",
    "predictions[5]=pred5\n",
    "\n",
    "a = list(range(1000))\n",
    "result = []\n",
    "for i in range(len(predictions)):\n",
    "    row = predictions.iloc[i].tolist()\n",
    "    arr = np.array(row)\n",
    "    counts = np.bincount(arr)\n",
    "    most_common_num = np.argmax(counts)\n",
    "    result.append(most_common_num)\n",
    "result_df = pd.DataFrame({\n",
    "    'id' : a,\n",
    "    'Predicted' : result,\n",
    "})\n",
    "result_df.to_csv('result5.csv', index=False)"
   ]
  },
  {
   "cell_type": "code",
   "execution_count": 26,
   "id": "8d5b1b1c",
   "metadata": {},
   "outputs": [
    {
     "data": {
      "text/plain": [
       "0"
      ]
     },
     "execution_count": 26,
     "metadata": {},
     "output_type": "execute_result"
    }
   ],
   "source": [
    "row = predictions.iloc[126579].tolist()\n",
    "arr = np.array(row)\n",
    "counts = np.bincount(arr)\n",
    "most_common_num = np.argmax(counts)\n",
    "most_common_num"
   ]
  },
  {
   "cell_type": "code",
   "execution_count": 18,
   "id": "c2a89f30",
   "metadata": {},
   "outputs": [],
   "source": [
    "data_transposed = list(map(list, zip(*pred)))\n",
    "df = pd.DataFrame(data_transposed)\n",
    "a = list(range(1000))\n",
    "result = []\n",
    "for i in range(len(df)):\n",
    "    row = df.iloc[i].tolist()\n",
    "    arr = np.array(row)\n",
    "    counts = np.bincount(arr)\n",
    "    most_common_num = np.argmax(counts)\n",
    "    result.append(most_common_num)\n",
    "result_df = pd.DataFrame({\n",
    "    'id' : a,\n",
    "    'Predicted' : result,\n",
    "})\n",
    "result_df.to_csv('result777.csv', index=False)"
   ]
  },
  {
   "cell_type": "code",
   "execution_count": 13,
   "id": "7846cd2a",
   "metadata": {},
   "outputs": [
    {
     "data": {
      "text/html": [
       "<div>\n",
       "<style scoped>\n",
       "    .dataframe tbody tr th:only-of-type {\n",
       "        vertical-align: middle;\n",
       "    }\n",
       "\n",
       "    .dataframe tbody tr th {\n",
       "        vertical-align: top;\n",
       "    }\n",
       "\n",
       "    .dataframe thead th {\n",
       "        text-align: right;\n",
       "    }\n",
       "</style>\n",
       "<table border=\"1\" class=\"dataframe\">\n",
       "  <thead>\n",
       "    <tr style=\"text-align: right;\">\n",
       "      <th></th>\n",
       "      <th>id</th>\n",
       "      <th>Predicted</th>\n",
       "    </tr>\n",
       "  </thead>\n",
       "  <tbody>\n",
       "    <tr>\n",
       "      <th>0</th>\n",
       "      <td>0</td>\n",
       "      <td>1</td>\n",
       "    </tr>\n",
       "    <tr>\n",
       "      <th>1</th>\n",
       "      <td>1</td>\n",
       "      <td>0</td>\n",
       "    </tr>\n",
       "    <tr>\n",
       "      <th>2</th>\n",
       "      <td>2</td>\n",
       "      <td>0</td>\n",
       "    </tr>\n",
       "    <tr>\n",
       "      <th>3</th>\n",
       "      <td>3</td>\n",
       "      <td>1</td>\n",
       "    </tr>\n",
       "    <tr>\n",
       "      <th>4</th>\n",
       "      <td>4</td>\n",
       "      <td>1</td>\n",
       "    </tr>\n",
       "    <tr>\n",
       "      <th>...</th>\n",
       "      <td>...</td>\n",
       "      <td>...</td>\n",
       "    </tr>\n",
       "    <tr>\n",
       "      <th>995</th>\n",
       "      <td>995</td>\n",
       "      <td>0</td>\n",
       "    </tr>\n",
       "    <tr>\n",
       "      <th>996</th>\n",
       "      <td>996</td>\n",
       "      <td>0</td>\n",
       "    </tr>\n",
       "    <tr>\n",
       "      <th>997</th>\n",
       "      <td>997</td>\n",
       "      <td>0</td>\n",
       "    </tr>\n",
       "    <tr>\n",
       "      <th>998</th>\n",
       "      <td>998</td>\n",
       "      <td>0</td>\n",
       "    </tr>\n",
       "    <tr>\n",
       "      <th>999</th>\n",
       "      <td>999</td>\n",
       "      <td>0</td>\n",
       "    </tr>\n",
       "  </tbody>\n",
       "</table>\n",
       "<p>1000 rows × 2 columns</p>\n",
       "</div>"
      ],
      "text/plain": [
       "      id  Predicted\n",
       "0      0          1\n",
       "1      1          0\n",
       "2      2          0\n",
       "3      3          1\n",
       "4      4          1\n",
       "..   ...        ...\n",
       "995  995          0\n",
       "996  996          0\n",
       "997  997          0\n",
       "998  998          0\n",
       "999  999          0\n",
       "\n",
       "[1000 rows x 2 columns]"
      ]
     },
     "execution_count": 13,
     "metadata": {},
     "output_type": "execute_result"
    }
   ],
   "source": [
    "result_df"
   ]
  },
  {
   "cell_type": "code",
   "execution_count": null,
   "id": "47577d26",
   "metadata": {},
   "outputs": [],
   "source": []
  }
 ],
 "metadata": {
  "kernelspec": {
   "display_name": "Python 3 (ipykernel)",
   "language": "python",
   "name": "python3"
  },
  "language_info": {
   "codemirror_mode": {
    "name": "ipython",
    "version": 3
   },
   "file_extension": ".py",
   "mimetype": "text/x-python",
   "name": "python",
   "nbconvert_exporter": "python",
   "pygments_lexer": "ipython3",
   "version": "3.10.9"
  }
 },
 "nbformat": 4,
 "nbformat_minor": 5
}
